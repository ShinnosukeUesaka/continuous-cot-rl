{
 "cells": [
  {
   "cell_type": "code",
   "execution_count": 27,
   "metadata": {},
   "outputs": [
    {
     "name": "stderr",
     "output_type": "stream",
     "text": [
      "Map: 100%|██████████| 490364/490364 [00:08<00:00, 57499.83 examples/s]\n",
      "Saving the dataset (1/1 shards): 100%|██████████| 441327/441327 [00:03<00:00, 133137.47 examples/s]\n",
      "Saving the dataset (1/1 shards): 100%|██████████| 49037/49037 [00:00<00:00, 152650.49 examples/s]\n"
     ]
    }
   ],
   "source": [
    "\"\"\"\n",
    "Preprocess dataset for countdown task - given a target number and N numbers, generate equations to reach target\n",
    "\"\"\"\n",
    "\n",
    "import re\n",
    "import os\n",
    "from datasets import Dataset, load_dataset\n",
    "import datasets\n",
    "from random import randint, seed, choice\n",
    "from typing import List, Tuple\n",
    "from tqdm import tqdm\n",
    "import argparse\n",
    "\n",
    "\n",
    "def gen_dataset(\n",
    "    num_samples: int,\n",
    "    num_operands: int = 6,\n",
    "    max_target: int = 1000,\n",
    "    min_number: int = 1,\n",
    "    max_number: int = 100,\n",
    "    operations: List[str] = ['+', '-', '*', '/'],\n",
    "    seed_value: int = 42,\n",
    ") -> List[Tuple]:\n",
    "    \"\"\"Generate dataset for countdown task.\n",
    "    \n",
    "    Args:\n",
    "        num_samples: Number of samples to generate\n",
    "        num_operands: Number of numbers provided in each sample\n",
    "        max_target: Maximum value for target number\n",
    "        min_number: Minimum value for provided numbers\n",
    "        max_number: Maximum value for provided numbers\n",
    "        operations: List of allowed operations\n",
    "        seed_value: Random seed for reproducibility\n",
    "        \n",
    "    Returns:\n",
    "        List of tuples containing (target, numbers, solution)\n",
    "    \"\"\"\n",
    "    seed(seed_value)\n",
    "    samples = []\n",
    "    \n",
    "    for _ in tqdm(range(num_samples)):\n",
    "        # Generate random target\n",
    "        target = randint(1, max_target)\n",
    "        \n",
    "        # Generate random numbers\n",
    "        numbers = [randint(min_number, max_number) for _ in range(num_operands)]\n",
    "        \n",
    "        \n",
    "        samples.append((target, numbers))\n",
    "    \n",
    "    return samples\n",
    "\n",
    "def make_prefix(dp, template_type):\n",
    "    target = dp['target']\n",
    "    numbers = dp['nums']\n",
    "    # NOTE: also need to change reward_score/countdown.py\n",
    "    if template_type == 'base':\n",
    "        \"\"\"This works for any base model\"\"\"\n",
    "        prefix = f\"\"\"A conversation between User and Assistant. The user asks a question, and the Assistant solves it. The assistant first thinks about the reasoning process in the mind and then provides the user with the answer.\n",
    "User: Using the numbers {numbers}, create an equation that equals {target}. You can use basic arithmetic operations (+, -, *, /) and each number can only be used once. Show your work in <think> </think> tags. And return the final answer in <answer> </answer> tags, for example <answer> (1 + 2) / 3 </answer>.\n",
    "Assistant: Let me solve this step by step.\n",
    "<think>\"\"\"\n",
    "    elif template_type == 'qwen-instruct':\n",
    "        \"\"\"This works for Qwen Instruct Models\"\"\"\n",
    "        prefix = f\"\"\"<|im_start|>system\\nYou are a helpful assistant. You first thinks about the reasoning process in the mind and then provides the user with the answer.<|im_end|>\\n<|im_start|>user\\n Using the numbers {numbers}, create an equation that equals {target}. You can use basic arithmetic operations (+, -, *, /) and each number can only be used once. Show your work in <think> </think> tags. And return the final answer in <answer> </answer> tags, for example <answer> (1 + 2) / 3 </answer>.<|im_end|>\\n<|im_start|>assistant\\nLet me solve this step by step.\\n<think>\"\"\"\n",
    "    return prefix\n",
    "\n",
    "\n",
    "if __name__ == '__main__':\n",
    "    \n",
    "\n",
    "    data_source = 'countdown'\n",
    "\n",
    "\n",
    "    raw_dataset = load_dataset('Jiayi-Pan/Countdown-Tasks-3to4', split='train')\n",
    "\n",
    "    def make_map_fn(split):\n",
    "        def process_fn(example, idx):\n",
    "            question = make_prefix(example, template_type=\"qwen-instruct\")\n",
    "            solution = {\n",
    "                \"target\": example['target'],\n",
    "                \"numbers\": example['nums']\n",
    "            }\n",
    "            data = {\n",
    "                \"data_source\": data_source,\n",
    "                \"prompt\": [{\n",
    "                    \"role\": \"user\",\n",
    "                    \"content\": question,\n",
    "                }],\n",
    "                \"ability\": \"math\",\n",
    "                \"reward_model\": {\n",
    "                    \"style\": \"rule\",\n",
    "                    \"ground_truth\": solution\n",
    "                },\n",
    "                \"extra_info\": {\n",
    "                    'split': split,\n",
    "                    'index': idx,\n",
    "                }\n",
    "            }\n",
    "            return data\n",
    "        return process_fn\n",
    "    \n",
    "    raw_dataset = raw_dataset.map(function=make_map_fn('train'), with_indices=True)\n",
    "    raw_dataset = raw_dataset.train_test_split(test_size=0.1, seed=42)\n",
    "    raw_dataset.save_to_disk(\"combination_task\")"
   ]
  },
  {
   "cell_type": "code",
   "execution_count": 28,
   "metadata": {},
   "outputs": [],
   "source": [
    "import datasets\n",
    "dataset = datasets.load_from_disk(\"combination_task\")"
   ]
  },
  {
   "cell_type": "code",
   "execution_count": 29,
   "metadata": {},
   "outputs": [],
   "source": [
    "dataset = dataset['train']"
   ]
  },
  {
   "cell_type": "code",
   "execution_count": 30,
   "metadata": {},
   "outputs": [
    {
     "data": {
      "text/plain": [
       "{'target': 38,\n",
       " 'nums': [71, 80, 97, 4],\n",
       " 'data_source': 'countdown',\n",
       " 'prompt': [{'content': '<|im_start|>system\\nYou are a helpful assistant. You first thinks about the reasoning process in the mind and then provides the user with the answer.<|im_end|>\\n<|im_start|>user\\n Using the numbers [71, 80, 97, 4], create an equation that equals 38. You can use basic arithmetic operations (+, -, *, /) and each number can only be used once. Show your work in <think> </think> tags. And return the final answer in <answer> </answer> tags, for example <answer> (1 + 2) / 3 </answer>.<|im_end|>\\n<|im_start|>assistant\\nLet me solve this step by step.\\n<think>',\n",
       "   'role': 'user'}],\n",
       " 'ability': 'math',\n",
       " 'reward_model': {'ground_truth': {'numbers': [71, 80, 97, 4], 'target': 38},\n",
       "  'style': 'rule'},\n",
       " 'extra_info': {'index': 272711, 'split': 'train'}}"
      ]
     },
     "execution_count": 30,
     "metadata": {},
     "output_type": "execute_result"
    }
   ],
   "source": [
    "dataset[0]"
   ]
  },
  {
   "cell_type": "code",
   "execution_count": null,
   "metadata": {},
   "outputs": [],
   "source": [
    "def map_fn(example):\n",
    "    prompt = [{\"role\": \"system\", \"content\": \"You are a helpful assistant. You first thinks about the reasoning process in the mind and then provides the user with the answer\"}, {\"role\": \"user\", \"content\": f\"Using the numbers {example['nums']}, create an equation that equals {example['target']}. You can use basic arithmetic operations (+, -, *, /) and each number can only be used once. Show your work in <think> </think> tags. And return the final answer in <answer> </answer> tags, for example <answer> (1 + 2) / 3 </answer>.\"}]\n",
    "    return {\n",
    "        \"prompt\": prompt,\n",
    "        \"ground_truth\": example['answer']\n",
    "    }\n",
    "raw_dataset = load_dataset('Jiayi-Pan/Countdown-Tasks-3to4', split='train')"
   ]
  },
  {
   "cell_type": "code",
   "execution_count": 31,
   "metadata": {},
   "outputs": [],
   "source": [
    "raw_dataset = load_dataset('Jiayi-Pan/Countdown-Tasks-3to4', split='train')"
   ]
  },
  {
   "cell_type": "code",
   "execution_count": null,
   "metadata": {},
   "outputs": [],
   "source": []
  }
 ],
 "metadata": {
  "kernelspec": {
   "display_name": ".venv",
   "language": "python",
   "name": "python3"
  },
  "language_info": {
   "codemirror_mode": {
    "name": "ipython",
    "version": 3
   },
   "file_extension": ".py",
   "mimetype": "text/x-python",
   "name": "python",
   "nbconvert_exporter": "python",
   "pygments_lexer": "ipython3",
   "version": "3.12.7"
  }
 },
 "nbformat": 4,
 "nbformat_minor": 2
}
