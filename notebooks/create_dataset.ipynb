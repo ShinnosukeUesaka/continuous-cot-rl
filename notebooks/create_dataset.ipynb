{
 "cells": [
  {
   "cell_type": "code",
   "execution_count": 49,
   "metadata": {},
   "outputs": [],
   "source": [
    "from datasets import load_dataset"
   ]
  },
  {
   "cell_type": "code",
   "execution_count": 50,
   "metadata": {},
   "outputs": [],
   "source": [
    "raw_dataset = load_dataset('Jiayi-Pan/Countdown-Tasks-3to4', split='train')"
   ]
  },
  {
   "cell_type": "code",
   "execution_count": 51,
   "metadata": {},
   "outputs": [],
   "source": [
    "def map_fn(example):\n",
    "    prompt = [{\"role\": \"system\", \"content\": \"You are a helpful assistant. You first thinks about the reasoning process in the mind and then provides the user with the answer\"}, {\"role\": \"user\", \"content\": f\"Using the numbers {example['nums']}, create an equation that equals {example['target']}. You can use basic arithmetic operations (+, -, *, /) and each number can only be used once. Show your work in <think> </think> tags. And return the final answer in <answer> </answer> tags, for example <answer> (1 + 2) / 3 </answer>.\"}]\n",
    "    return {\n",
    "        \"prompt\": prompt\n",
    "    }\n",
    "\n",
    "\n",
    "raw_dataset = raw_dataset.map(map_fn)\n",
    "raw_dataset = raw_dataset.train_test_split(test_size=0.1)"
   ]
  },
  {
   "cell_type": "code",
   "execution_count": 55,
   "metadata": {},
   "outputs": [
    {
     "name": "stderr",
     "output_type": "stream",
     "text": [
      "Saving the dataset (1/1 shards): 100%|██████████| 441327/441327 [00:01<00:00, 347053.13 examples/s]\n",
      "Saving the dataset (1/1 shards): 100%|██████████| 49037/49037 [00:00<00:00, 338854.85 examples/s]\n"
     ]
    }
   ],
   "source": [
    "raw_dataset.save_to_disk(\"countdown_tasks\")"
   ]
  },
  {
   "cell_type": "code",
   "execution_count": 56,
   "metadata": {},
   "outputs": [
    {
     "data": {
      "text/plain": [
       "{'target': 86,\n",
       " 'nums': [31, 41, 14],\n",
       " 'prompt': [{'content': 'You are a helpful assistant. You first thinks about the reasoning process in the mind and then provides the user with the answer',\n",
       "   'role': 'system'},\n",
       "  {'content': 'Using the numbers [31, 41, 14], create an equation that equals 86. You can use basic arithmetic operations (+, -, *, /) and each number can only be used once. Show your work in <think> </think> tags. And return the final answer in <answer> </answer> tags, for example <answer> (1 + 2) / 3 </answer>.',\n",
       "   'role': 'user'}]}"
      ]
     },
     "execution_count": 56,
     "metadata": {},
     "output_type": "execute_result"
    }
   ],
   "source": [
    "raw_dataset['train'][0]"
   ]
  },
  {
   "cell_type": "code",
   "execution_count": null,
   "metadata": {},
   "outputs": [],
   "source": []
  }
 ],
 "metadata": {
  "kernelspec": {
   "display_name": ".venv",
   "language": "python",
   "name": "python3"
  },
  "language_info": {
   "codemirror_mode": {
    "name": "ipython",
    "version": 3
   },
   "file_extension": ".py",
   "mimetype": "text/x-python",
   "name": "python",
   "nbconvert_exporter": "python",
   "pygments_lexer": "ipython3",
   "version": "3.12.7"
  }
 },
 "nbformat": 4,
 "nbformat_minor": 2
}
